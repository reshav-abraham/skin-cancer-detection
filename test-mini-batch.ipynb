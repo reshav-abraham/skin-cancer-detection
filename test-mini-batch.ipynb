{
 "cells": [
  {
   "cell_type": "code",
   "execution_count": 2,
   "metadata": {},
   "outputs": [],
   "source": [
    "import numpy as np"
   ]
  },
  {
   "cell_type": "code",
   "execution_count": 3,
   "metadata": {},
   "outputs": [],
   "source": [
    "X_train = np.load(\"train.npy\", allow_pickle=True)\n",
    "# X_test = np.load(\"test.npy\", allow_pickle=True)\n",
    "y_train = np.load(\"train-labels.npy\", allow_pickle=True)\n",
    "# y_test = np.load(\"test-labels.npy\", allow_pickle=True)"
   ]
  },
  {
   "cell_type": "code",
   "execution_count": 8,
   "metadata": {},
   "outputs": [
    {
     "name": "stdout",
     "output_type": "stream",
     "text": [
      "[['red']\n",
      " ['green']\n",
      " ['blue']]\n",
      "[[0. 0. 1.]\n",
      " [0. 1. 0.]\n",
      " [1. 0. 0.]]\n"
     ]
    }
   ],
   "source": [
    "# example of a one hot encoding\n",
    "from numpy import asarray\n",
    "from sklearn.preprocessing import OneHotEncoder\n",
    "# define data\n",
    "data = asarray([['red'], ['green'], ['blue']])\n",
    "print(data)\n",
    "# define one hot encoding\n",
    "encoder = OneHotEncoder(sparse=False)\n",
    "# transform data\n",
    "onehot = encoder.fit_transform(data)\n",
    "print(onehot)"
   ]
  },
  {
   "cell_type": "code",
   "execution_count": 9,
   "metadata": {},
   "outputs": [
    {
     "data": {
      "text/plain": [
       "array([[0., 0., 1.],\n",
       "       [0., 1., 0.],\n",
       "       [1., 0., 0.]])"
      ]
     },
     "execution_count": 9,
     "metadata": {},
     "output_type": "execute_result"
    }
   ],
   "source": [
    "onehot"
   ]
  },
  {
   "cell_type": "code",
   "execution_count": 249,
   "metadata": {},
   "outputs": [],
   "source": [
    "test_x = X_train[:7008] # [:20]\n",
    "test_y = y_train[:7008] # [:20]"
   ]
  },
  {
   "cell_type": "code",
   "execution_count": 251,
   "metadata": {},
   "outputs": [
    {
     "data": {
      "text/plain": [
       "1752.0"
      ]
     },
     "execution_count": 251,
     "metadata": {},
     "output_type": "execute_result"
    }
   ],
   "source": [
    "7008 / 4"
   ]
  },
  {
   "cell_type": "code",
   "execution_count": 252,
   "metadata": {},
   "outputs": [],
   "source": [
    "batch_data = np.array(np.split(test_x,1752,axis=0))\n",
    "batch_labels = np.array(np.split(test_y,1752,axis=0))"
   ]
  },
  {
   "cell_type": "code",
   "execution_count": 253,
   "metadata": {},
   "outputs": [],
   "source": [
    "import matplotlib.pyplot as plt"
   ]
  },
  {
   "cell_type": "code",
   "execution_count": 254,
   "metadata": {},
   "outputs": [
    {
     "data": {
      "text/plain": [
       "(4, 56, 75, 3)"
      ]
     },
     "execution_count": 254,
     "metadata": {},
     "output_type": "execute_result"
    }
   ],
   "source": [
    "batch_data[0].shape"
   ]
  },
  {
   "cell_type": "code",
   "execution_count": 255,
   "metadata": {},
   "outputs": [
    {
     "data": {
      "text/plain": [
       "'nv'"
      ]
     },
     "execution_count": 255,
     "metadata": {},
     "output_type": "execute_result"
    }
   ],
   "source": [
    "batch_labels[0][0]"
   ]
  },
  {
   "cell_type": "code",
   "execution_count": 256,
   "metadata": {},
   "outputs": [
    {
     "data": {
      "text/plain": [
       "['bcc', 'akiec', 'nv', 'bkl', 'df', 'vasc', 'mel']"
      ]
     },
     "execution_count": 256,
     "metadata": {},
     "output_type": "execute_result"
    }
   ],
   "source": [
    "list(set(test_y))"
   ]
  },
  {
   "cell_type": "code",
   "execution_count": 257,
   "metadata": {},
   "outputs": [
    {
     "data": {
      "text/plain": [
       "(7008,)"
      ]
     },
     "execution_count": 257,
     "metadata": {},
     "output_type": "execute_result"
    }
   ],
   "source": [
    "test_x.shape\n",
    "test_y.shape"
   ]
  },
  {
   "cell_type": "code",
   "execution_count": 258,
   "metadata": {},
   "outputs": [
    {
     "data": {
      "text/plain": [
       "array([['bcc'],\n",
       "       ['akiec'],\n",
       "       ['nv'],\n",
       "       ['bkl'],\n",
       "       ['df'],\n",
       "       ['vasc'],\n",
       "       ['mel']], dtype='<U5')"
      ]
     },
     "execution_count": 258,
     "metadata": {},
     "output_type": "execute_result"
    }
   ],
   "source": [
    "asarray(list(set(test_y))).reshape(-1, 1)"
   ]
  },
  {
   "cell_type": "code",
   "execution_count": 259,
   "metadata": {},
   "outputs": [
    {
     "data": {
      "text/plain": [
       "array([['red'],\n",
       "       ['green'],\n",
       "       ['blue']], dtype='<U5')"
      ]
     },
     "execution_count": 259,
     "metadata": {},
     "output_type": "execute_result"
    }
   ],
   "source": [
    "asarray([['red'], ['green'], ['blue']])"
   ]
  },
  {
   "cell_type": "code",
   "execution_count": 260,
   "metadata": {},
   "outputs": [],
   "source": [
    "labels_map = asarray(list(set(y_train))).reshape(-1, 1)"
   ]
  },
  {
   "cell_type": "code",
   "execution_count": 261,
   "metadata": {},
   "outputs": [
    {
     "data": {
      "text/plain": [
       "array([['bcc'],\n",
       "       ['akiec'],\n",
       "       ['nv'],\n",
       "       ['bkl'],\n",
       "       ['df'],\n",
       "       ['vasc'],\n",
       "       ['mel']], dtype='<U5')"
      ]
     },
     "execution_count": 261,
     "metadata": {},
     "output_type": "execute_result"
    }
   ],
   "source": [
    "labels_map"
   ]
  },
  {
   "cell_type": "code",
   "execution_count": 262,
   "metadata": {},
   "outputs": [
    {
     "data": {
      "text/plain": [
       "array([[0., 1., 0., 0., 0., 0., 0.],\n",
       "       [1., 0., 0., 0., 0., 0., 0.],\n",
       "       [0., 0., 0., 0., 0., 1., 0.],\n",
       "       [0., 0., 1., 0., 0., 0., 0.],\n",
       "       [0., 0., 0., 1., 0., 0., 0.],\n",
       "       [0., 0., 0., 0., 0., 0., 1.],\n",
       "       [0., 0., 0., 0., 1., 0., 0.]])"
      ]
     },
     "execution_count": 262,
     "metadata": {},
     "output_type": "execute_result"
    }
   ],
   "source": [
    "encoder = OneHotEncoder(sparse=False)\n",
    "onehot = encoder.fit_transform(labels_map)\n",
    "onehot"
   ]
  },
  {
   "cell_type": "code",
   "execution_count": 263,
   "metadata": {},
   "outputs": [
    {
     "name": "stderr",
     "output_type": "stream",
     "text": [
      "/usr/local/anaconda3/lib/python3.7/site-packages/sklearn/utils/validation.py:73: DataConversionWarning: A column-vector y was passed when a 1d array was expected. Please change the shape of y to (n_samples, ), for example using ravel().\n",
      "  return f(**kwargs)\n"
     ]
    },
    {
     "data": {
      "text/plain": [
       "LabelEncoder()"
      ]
     },
     "execution_count": 263,
     "metadata": {},
     "output_type": "execute_result"
    }
   ],
   "source": [
    "from sklearn import preprocessing\n",
    "le = preprocessing.LabelEncoder()\n",
    "le.fit(labels_map)"
   ]
  },
  {
   "cell_type": "code",
   "execution_count": 264,
   "metadata": {},
   "outputs": [
    {
     "data": {
      "text/plain": [
       "array(['akiec', 'bcc', 'bkl', 'df', 'mel', 'nv', 'vasc'], dtype='<U5')"
      ]
     },
     "execution_count": 264,
     "metadata": {},
     "output_type": "execute_result"
    }
   ],
   "source": [
    "le.classes_"
   ]
  },
  {
   "cell_type": "code",
   "execution_count": 265,
   "metadata": {},
   "outputs": [
    {
     "data": {
      "text/plain": [
       "array([0, 1, 1])"
      ]
     },
     "execution_count": 265,
     "metadata": {},
     "output_type": "execute_result"
    }
   ],
   "source": [
    "le.transform([\"akiec\", \"bcc\", \"bcc\"])"
   ]
  },
  {
   "cell_type": "code",
   "execution_count": 266,
   "metadata": {},
   "outputs": [],
   "source": [
    "label_mapping = {}\n",
    "for idx, i in enumerate(labels_map.flatten()):\n",
    "    label_mapping[i] = onehot[idx]"
   ]
  },
  {
   "cell_type": "code",
   "execution_count": 267,
   "metadata": {},
   "outputs": [
    {
     "data": {
      "text/plain": [
       "{'bcc': array([0., 1., 0., 0., 0., 0., 0.]),\n",
       " 'akiec': array([1., 0., 0., 0., 0., 0., 0.]),\n",
       " 'nv': array([0., 0., 0., 0., 0., 1., 0.]),\n",
       " 'bkl': array([0., 0., 1., 0., 0., 0., 0.]),\n",
       " 'df': array([0., 0., 0., 1., 0., 0., 0.]),\n",
       " 'vasc': array([0., 0., 0., 0., 0., 0., 1.]),\n",
       " 'mel': array([0., 0., 0., 0., 1., 0., 0.])}"
      ]
     },
     "execution_count": 267,
     "metadata": {},
     "output_type": "execute_result"
    }
   ],
   "source": [
    "label_mapping"
   ]
  },
  {
   "cell_type": "code",
   "execution_count": 268,
   "metadata": {},
   "outputs": [],
   "source": [
    "import torch.nn as nn\n",
    "import torch.nn.functional as F\n",
    "import torch\n",
    "\n",
    "\n",
    "class Net(nn.Module):\n",
    "    def __init__(self):\n",
    "        super().__init__()\n",
    "        self.conv1 = nn.Conv2d(in_channels=3, out_channels=6, kernel_size=5)\n",
    "        self.pool = nn.MaxPool2d(2, 2)\n",
    "        self.conv2 = nn.Conv2d(6, 16, 5)\n",
    "        self.fc1 = nn.Linear(16 * 15 * 11, 120)\n",
    "        self.fc2 = nn.Linear(120, 84)\n",
    "        self.fc3 = nn.Linear(84, 10)\n",
    "\n",
    "    def forward(self, x):\n",
    "        x = self.pool(F.relu(self.conv1(x)))\n",
    "        x = self.pool(F.relu(self.conv2(x)))\n",
    "        # print(\"x shape\", x.shape)\n",
    "        x = x.view(-1, 16 * 15 * 11)\n",
    "        x = F.relu(self.fc1(x))\n",
    "        x = F.relu(self.fc2(x))\n",
    "        x = self.fc3(x)\n",
    "        return x\n",
    "\n",
    "\n",
    "net = Net()"
   ]
  },
  {
   "cell_type": "code",
   "execution_count": 269,
   "metadata": {},
   "outputs": [],
   "source": [
    "import torch.optim as optim\n",
    "\n",
    "criterion = nn.CrossEntropyLoss()\n",
    "optimizer = optim.SGD(net.parameters(), lr=0.001, momentum=0.9)"
   ]
  },
  {
   "cell_type": "code",
   "execution_count": 270,
   "metadata": {},
   "outputs": [],
   "source": [
    "for idx, i in enumerate(zip(test_x, test_y), 0):\n",
    "    data, labels = i"
   ]
  },
  {
   "cell_type": "code",
   "execution_count": 273,
   "metadata": {},
   "outputs": [
    {
     "name": "stdout",
     "output_type": "stream",
     "text": [
      "[1,   100] loss: 0.047\n",
      "[1,   200] loss: 0.051\n",
      "[1,   300] loss: 0.040\n",
      "[1,   400] loss: 0.048\n",
      "[1,   500] loss: 0.052\n",
      "[1,   600] loss: 0.050\n",
      "[1,   700] loss: 0.047\n",
      "[1,   800] loss: 0.046\n",
      "[1,   900] loss: 0.050\n",
      "[1,  1000] loss: 0.047\n",
      "[1,  1100] loss: 0.051\n",
      "[1,  1200] loss: 0.048\n",
      "[1,  1300] loss: 0.047\n",
      "[1,  1400] loss: 0.046\n",
      "[1,  1500] loss: 0.050\n",
      "[1,  1600] loss: 0.046\n",
      "[1,  1700] loss: 0.046\n",
      "[2,   100] loss: 0.047\n",
      "[2,   200] loss: 0.050\n",
      "[2,   300] loss: 0.039\n",
      "[2,   400] loss: 0.048\n",
      "[2,   500] loss: 0.052\n",
      "[2,   600] loss: 0.048\n",
      "[2,   700] loss: 0.047\n",
      "[2,   800] loss: 0.046\n",
      "[2,   900] loss: 0.048\n",
      "[2,  1000] loss: 0.048\n",
      "[2,  1100] loss: 0.051\n",
      "[2,  1200] loss: 0.048\n",
      "[2,  1300] loss: 0.046\n",
      "[2,  1400] loss: 0.046\n",
      "[2,  1500] loss: 0.050\n",
      "[2,  1600] loss: 0.045\n",
      "[2,  1700] loss: 0.045\n",
      "[3,   100] loss: 0.045\n",
      "[3,   200] loss: 0.049\n",
      "[3,   300] loss: 0.038\n",
      "[3,   400] loss: 0.047\n",
      "[3,   500] loss: 0.051\n",
      "[3,   600] loss: 0.047\n",
      "[3,   700] loss: 0.047\n",
      "[3,   800] loss: 0.045\n",
      "[3,   900] loss: 0.047\n",
      "[3,  1000] loss: 0.047\n",
      "[3,  1100] loss: 0.050\n",
      "[3,  1200] loss: 0.047\n",
      "[3,  1300] loss: 0.046\n",
      "[3,  1400] loss: 0.045\n",
      "[3,  1500] loss: 0.049\n",
      "[3,  1600] loss: 0.044\n",
      "[3,  1700] loss: 0.045\n",
      "[4,   100] loss: 0.045\n",
      "[4,   200] loss: 0.047\n",
      "[4,   300] loss: 0.037\n",
      "[4,   400] loss: 0.046\n",
      "[4,   500] loss: 0.051\n",
      "[4,   600] loss: 0.047\n",
      "[4,   700] loss: 0.046\n",
      "[4,   800] loss: 0.044\n",
      "[4,   900] loss: 0.047\n",
      "[4,  1000] loss: 0.046\n",
      "[4,  1100] loss: 0.050\n",
      "[4,  1200] loss: 0.047\n",
      "[4,  1300] loss: 0.045\n",
      "[4,  1400] loss: 0.044\n",
      "[4,  1500] loss: 0.049\n",
      "[4,  1600] loss: 0.043\n",
      "[4,  1700] loss: 0.044\n",
      "[5,   100] loss: 0.043\n",
      "[5,   200] loss: 0.047\n",
      "[5,   300] loss: 0.037\n",
      "[5,   400] loss: 0.045\n",
      "[5,   500] loss: 0.050\n",
      "[5,   600] loss: 0.046\n",
      "[5,   700] loss: 0.045\n",
      "[5,   800] loss: 0.044\n",
      "[5,   900] loss: 0.046\n",
      "[5,  1000] loss: 0.046\n",
      "[5,  1100] loss: 0.049\n",
      "[5,  1200] loss: 0.046\n",
      "[5,  1300] loss: 0.044\n",
      "[5,  1400] loss: 0.044\n",
      "[5,  1500] loss: 0.048\n",
      "[5,  1600] loss: 0.043\n",
      "[5,  1700] loss: 0.043\n",
      "[6,   100] loss: 0.043\n",
      "[6,   200] loss: 0.046\n",
      "[6,   300] loss: 0.037\n",
      "[6,   400] loss: 0.044\n",
      "[6,   500] loss: 0.049\n",
      "[6,   600] loss: 0.045\n",
      "[6,   700] loss: 0.044\n",
      "[6,   800] loss: 0.043\n",
      "[6,   900] loss: 0.045\n",
      "[6,  1000] loss: 0.045\n",
      "[6,  1100] loss: 0.048\n",
      "[6,  1200] loss: 0.045\n",
      "[6,  1300] loss: 0.044\n",
      "[6,  1400] loss: 0.043\n",
      "[6,  1500] loss: 0.047\n",
      "[6,  1600] loss: 0.042\n",
      "[6,  1700] loss: 0.043\n",
      "[7,   100] loss: 0.042\n",
      "[7,   200] loss: 0.045\n",
      "[7,   300] loss: 0.037\n",
      "[7,   400] loss: 0.043\n",
      "[7,   500] loss: 0.048\n",
      "[7,   600] loss: 0.045\n",
      "[7,   700] loss: 0.044\n",
      "[7,   800] loss: 0.043\n",
      "[7,   900] loss: 0.044\n",
      "[7,  1000] loss: 0.045\n",
      "[7,  1100] loss: 0.048\n",
      "[7,  1200] loss: 0.044\n",
      "[7,  1300] loss: 0.043\n",
      "[7,  1400] loss: 0.043\n",
      "[7,  1500] loss: 0.047\n",
      "[7,  1600] loss: 0.042\n",
      "[7,  1700] loss: 0.043\n",
      "[8,   100] loss: 0.042\n",
      "[8,   200] loss: 0.044\n",
      "[8,   300] loss: 0.037\n",
      "[8,   400] loss: 0.043\n",
      "[8,   500] loss: 0.048\n",
      "[8,   600] loss: 0.044\n",
      "[8,   700] loss: 0.043\n",
      "[8,   800] loss: 0.042\n",
      "[8,   900] loss: 0.043\n",
      "[8,  1000] loss: 0.044\n",
      "[8,  1100] loss: 0.047\n",
      "[8,  1200] loss: 0.044\n",
      "[8,  1300] loss: 0.043\n",
      "[8,  1400] loss: 0.042\n",
      "[8,  1500] loss: 0.046\n",
      "[8,  1600] loss: 0.041\n",
      "[8,  1700] loss: 0.042\n",
      "[9,   100] loss: 0.041\n",
      "[9,   200] loss: 0.043\n",
      "[9,   300] loss: 0.036\n",
      "[9,   400] loss: 0.042\n",
      "[9,   500] loss: 0.047\n",
      "[9,   600] loss: 0.043\n",
      "[9,   700] loss: 0.042\n",
      "[9,   800] loss: 0.042\n",
      "[9,   900] loss: 0.043\n",
      "[9,  1000] loss: 0.044\n",
      "[9,  1100] loss: 0.047\n",
      "[9,  1200] loss: 0.043\n",
      "[9,  1300] loss: 0.043\n",
      "[9,  1400] loss: 0.042\n",
      "[9,  1500] loss: 0.046\n",
      "[9,  1600] loss: 0.041\n",
      "[9,  1700] loss: 0.042\n",
      "[10,   100] loss: 0.041\n",
      "[10,   200] loss: 0.042\n",
      "[10,   300] loss: 0.036\n",
      "[10,   400] loss: 0.041\n",
      "[10,   500] loss: 0.047\n",
      "[10,   600] loss: 0.043\n",
      "[10,   700] loss: 0.042\n",
      "[10,   800] loss: 0.041\n",
      "[10,   900] loss: 0.043\n",
      "[10,  1000] loss: 0.043\n",
      "[10,  1100] loss: 0.047\n",
      "[10,  1200] loss: 0.043\n",
      "[10,  1300] loss: 0.043\n",
      "[10,  1400] loss: 0.041\n",
      "[10,  1500] loss: 0.045\n",
      "[10,  1600] loss: 0.041\n",
      "[10,  1700] loss: 0.041\n",
      "Finished Training\n"
     ]
    }
   ],
   "source": [
    "for epoch in range(10):  # loop over the dataset multiple times\n",
    "\n",
    "    running_loss = 0.0\n",
    "    for i, data in enumerate(zip(batch_data, batch_labels)):\n",
    "        # get the inputs; data is a list of [inputs, labels]\n",
    "        inputs, labels = data\n",
    "        \n",
    "        inputs = torch.from_numpy(inputs).view(4, 3, 75, 56).float()\n",
    "        # label_one_hot = np.array([label_mapping[label] for label in labels])\n",
    "        label_one_hot = np.array(le.transform(labels))\n",
    "        labels = torch.from_numpy(label_one_hot)\n",
    "        \n",
    "        # zero the parameter gradients\n",
    "        optimizer.zero_grad()\n",
    "\n",
    "        # forward + backward + optimize\n",
    "        outputs = net(inputs)\n",
    "        # print(outputs.shape, \"\\n\", outputs)\n",
    "        # print(labels.shape, \"labels\", labels)\n",
    "        loss = criterion(outputs, labels)\n",
    "        loss.backward()\n",
    "        optimizer.step()\n",
    "\n",
    "        # print statistics\n",
    "        running_loss += loss.item()\n",
    "        if i % 100 == 99:    # print every 2000 mini-batches\n",
    "            print('[%d, %5d] loss: %.3f' %\n",
    "                  (epoch + 1, i + 1, running_loss / 2000))\n",
    "            running_loss = 0.0\n",
    "\n",
    "print('Finished Training')"
   ]
  },
  {
   "cell_type": "code",
   "execution_count": 278,
   "metadata": {},
   "outputs": [],
   "source": [
    "X_test = np.load(\"test.npy\", allow_pickle=True)\n",
    "# X_test = np.load(\"test.npy\", allow_pickle=True)\n",
    "y_test = np.load(\"test-labels.npy\", allow_pickle=True)\n",
    "# y_test = np.load(\"test-labels.npy\", allow_pickle=True)"
   ]
  },
  {
   "cell_type": "code",
   "execution_count": 283,
   "metadata": {},
   "outputs": [
    {
     "data": {
      "text/plain": [
       "751.0"
      ]
     },
     "execution_count": 283,
     "metadata": {},
     "output_type": "execute_result"
    }
   ],
   "source": [
    "len(X_test[:3004]) / 4"
   ]
  },
  {
   "cell_type": "code",
   "execution_count": 284,
   "metadata": {},
   "outputs": [],
   "source": [
    "test_batch_data = np.array(np.split(X_test[:3004],751,axis=0))\n",
    "test_batch_labels = np.array(np.split(y_test[:3004],751,axis=0))"
   ]
  },
  {
   "cell_type": "code",
   "execution_count": 286,
   "metadata": {},
   "outputs": [
    {
     "name": "stdout",
     "output_type": "stream",
     "text": [
      "Accuracy of the network on the 10000 test images: 69 %\n"
     ]
    }
   ],
   "source": [
    "correct = 0\n",
    "total = 0\n",
    "with torch.no_grad():\n",
    "    for i, data in enumerate(zip(batch_data, batch_labels)):\n",
    "        # get the inputs; data is a list of [inputs, labels]\n",
    "        inputs, labels = data\n",
    "        \n",
    "        inputs = torch.from_numpy(inputs).view(4, 3, 75, 56).float()\n",
    "        # label_one_hot = np.array([label_mapping[label] for label in labels])\n",
    "        label_one_hot = np.array(le.transform(labels))\n",
    "        labels = torch.from_numpy(label_one_hot)\n",
    "        outputs = net(inputs)\n",
    "        _, predicted = torch.max(outputs.data, 1)\n",
    "        total += labels.size(0)\n",
    "        correct += (predicted == labels).sum().item()\n",
    "\n",
    "print('Accuracy of the network on the 10000 test images: %d %%' % (\n",
    "    100 * correct / total))"
   ]
  },
  {
   "cell_type": "code",
   "execution_count": 287,
   "metadata": {},
   "outputs": [
    {
     "name": "stdout",
     "output_type": "stream",
     "text": [
      "Accuracy of the network on the 10000 test images: 69 %\n"
     ]
    }
   ],
   "source": [
    "test_correct = 0\n",
    "test_total = 0\n",
    "with torch.no_grad():\n",
    "    for i, data in enumerate(zip(test_batch_data, test_batch_labels)):\n",
    "        # get the inputs; data is a list of [inputs, labels]\n",
    "        inputs, labels = data\n",
    "        \n",
    "        inputs = torch.from_numpy(inputs).view(4, 3, 75, 56).float()\n",
    "        # label_one_hot = np.array([label_mapping[label] for label in labels])\n",
    "        label_one_hot = np.array(le.transform(labels))\n",
    "        labels = torch.from_numpy(label_one_hot)\n",
    "        outputs = net(inputs)\n",
    "        _, predicted = torch.max(outputs.data, 1)\n",
    "        test_total += labels.size(0)\n",
    "        test_correct += (predicted == labels).sum().item()\n",
    "\n",
    "print('Accuracy of the network on the 10000 test images: %d %%' % (\n",
    "    100 * test_correct / test_total))"
   ]
  },
  {
   "cell_type": "code",
   "execution_count": 241,
   "metadata": {},
   "outputs": [
    {
     "data": {
      "text/plain": [
       "7010"
      ]
     },
     "execution_count": 241,
     "metadata": {},
     "output_type": "execute_result"
    }
   ],
   "source": [
    "len(test_x)"
   ]
  },
  {
   "cell_type": "code",
   "execution_count": 248,
   "metadata": {},
   "outputs": [
    {
     "data": {
      "text/plain": [
       "1752.0"
      ]
     },
     "execution_count": 248,
     "metadata": {},
     "output_type": "execute_result"
    }
   ],
   "source": [
    "7008 / 4"
   ]
  },
  {
   "cell_type": "code",
   "execution_count": 192,
   "metadata": {},
   "outputs": [
    {
     "data": {
      "text/plain": [
       "[4, 16, 15, 11]"
      ]
     },
     "execution_count": 192,
     "metadata": {},
     "output_type": "execute_result"
    }
   ],
   "source": [
    "[4, 16, 15, 11]"
   ]
  },
  {
   "cell_type": "code",
   "execution_count": 198,
   "metadata": {},
   "outputs": [
    {
     "data": {
      "text/plain": [
       "11.0"
      ]
     },
     "execution_count": 198,
     "metadata": {},
     "output_type": "execute_result"
    }
   ],
   "source": [
    "2640 / 16 / 15"
   ]
  },
  {
   "cell_type": "code",
   "execution_count": 132,
   "metadata": {},
   "outputs": [
    {
     "data": {
      "text/plain": [
       "array([0.87741597, 0.54901961, 0.64705882])"
      ]
     },
     "execution_count": 132,
     "metadata": {},
     "output_type": "execute_result"
    }
   ],
   "source": [
    "batch_data[0][0][0][0].astype(np.double)"
   ]
  },
  {
   "cell_type": "code",
   "execution_count": 166,
   "metadata": {},
   "outputs": [],
   "source": [
    "test1 = torch.from_numpy(batch_data).type(torch.float)"
   ]
  },
  {
   "cell_type": "code",
   "execution_count": 167,
   "metadata": {},
   "outputs": [
    {
     "data": {
      "text/plain": [
       "torch.Size([4, 56, 75, 3])"
      ]
     },
     "execution_count": 167,
     "metadata": {},
     "output_type": "execute_result"
    }
   ],
   "source": [
    "test1[0].shape"
   ]
  },
  {
   "cell_type": "code",
   "execution_count": 169,
   "metadata": {},
   "outputs": [],
   "source": [
    "x = test1[0].view(4, 3, 75, 56)"
   ]
  },
  {
   "cell_type": "code",
   "execution_count": 106,
   "metadata": {},
   "outputs": [
    {
     "data": {
      "text/plain": [
       "torch.Tensor"
      ]
     },
     "execution_count": 106,
     "metadata": {},
     "output_type": "execute_result"
    }
   ],
   "source": [
    "type(x)"
   ]
  },
  {
   "cell_type": "code",
   "execution_count": 85,
   "metadata": {},
   "outputs": [
    {
     "data": {
      "text/plain": [
       "array(['nv', 'mel', 'nv', 'nv', 'mel'], dtype=object)"
      ]
     },
     "execution_count": 85,
     "metadata": {},
     "output_type": "execute_result"
    }
   ],
   "source": [
    "batch_labels[0]"
   ]
  },
  {
   "cell_type": "code",
   "execution_count": 89,
   "metadata": {},
   "outputs": [
    {
     "data": {
      "text/plain": [
       "array(['nv', 'mel', 'nv', 'nv', 'mel'], dtype=object)"
      ]
     },
     "execution_count": 89,
     "metadata": {},
     "output_type": "execute_result"
    }
   ],
   "source": [
    "batch_labels[0]"
   ]
  },
  {
   "cell_type": "code",
   "execution_count": null,
   "metadata": {},
   "outputs": [],
   "source": []
  }
 ],
 "metadata": {
  "kernelspec": {
   "display_name": "Python 3",
   "language": "python",
   "name": "python3"
  },
  "language_info": {
   "codemirror_mode": {
    "name": "ipython",
    "version": 3
   },
   "file_extension": ".py",
   "mimetype": "text/x-python",
   "name": "python",
   "nbconvert_exporter": "python",
   "pygments_lexer": "ipython3",
   "version": "3.7.6"
  }
 },
 "nbformat": 4,
 "nbformat_minor": 4
}
